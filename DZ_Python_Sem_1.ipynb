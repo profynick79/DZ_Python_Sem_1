{
 "cells": [
  {
   "cell_type": "markdown",
   "id": "e6c52c5c",
   "metadata": {},
   "source": [
    "# Условие 1:\n",
    "Оформляйте ноутбук, используя эти советы:\n",
    "- Номер задачи - заголовок 2\n",
    "- Номер подзадачи - заголовок 3\n",
    "- Предоставленные наборы данных оформляйте, как код"
   ]
  },
  {
   "cell_type": "markdown",
   "id": "dd3d4614",
   "metadata": {},
   "source": [
    "# Условие 2:\n",
    "На складе лежат разные фрукты в разном количестве.\n",
    "Нужно написать функцию, которая на вход принимает любое количество названий фруктов и их количество, а возвращает общее количество фруктов на складе"
   ]
  },
  {
   "cell_type": "code",
   "execution_count": 24,
   "id": "f1b5e064",
   "metadata": {},
   "outputs": [],
   "source": [
    "def fruit_basket(**kwargs):\n",
    "    {print(f\"Фрукт {name} в количестве {values} шт\")\n",
    "        for name, values in kwargs.items()}\n",
    "    return print(f'Общее количество фрутов: {sum(kwargs.values())}')"
   ]
  },
  {
   "cell_type": "code",
   "execution_count": 23,
   "id": "61afd6f1",
   "metadata": {},
   "outputs": [
    {
     "name": "stdout",
     "output_type": "stream",
     "text": [
      "Фрукт манго в количестве 10 шт\n",
      "Фрукт киви в количестве 23 шт\n",
      "Фрукт ананас в количестве 7 шт\n",
      "Общее количество фрутов: 40\n"
     ]
    }
   ],
   "source": [
    "fruit_basket(\n",
    "    манго = 10,\n",
    "    киви = 23,\n",
    "    ананас = 7\n",
    ")"
   ]
  },
  {
   "cell_type": "markdown",
   "id": "a5c4331c",
   "metadata": {},
   "source": [
    "# Условие 3:\n",
    "Дан список с затратами на рекламу. Но в данных есть ошибки, некоторые затраты имеют отрицательную величину. Удалите такие значения из списка и посчитайте суммарные затраты\n",
    "\n",
    "[100, 125, -90, 345, 655, -1, 0, 200]\n",
    "\n",
    "Используйте list comprehensions\n"
   ]
  },
  {
   "cell_type": "code",
   "execution_count": 28,
   "id": "29decdff",
   "metadata": {},
   "outputs": [
    {
     "name": "stdout",
     "output_type": "stream",
     "text": [
      "Затраты на рекламу с положительными величинами [100, 125, 345, 655, 200]\n"
     ]
    },
    {
     "data": {
      "text/plain": [
       "'Суммарные затраты составляют: 1425'"
      ]
     },
     "execution_count": 28,
     "metadata": {},
     "output_type": "execute_result"
    }
   ],
   "source": [
    "list_cost = [100, 125, -90, 345, 655, -1, 0, 200]\n",
    "position_cost = [i for i in list_cost if i > 0]\n",
    "print(f'Затраты на рекламу с положительными величинами {position_cost}')\n",
    "f\"Суммарные затраты составляют: {sum(position_cost)}\""
   ]
  },
  {
   "cell_type": "markdown",
   "id": "ae6a68d8",
   "metadata": {},
   "source": [
    "# Условие 4:\n",
    "Даны два списка.\n",
    "\n",
    "Дата покупки\n",
    "\n",
    "['2021-09-14', '2021-12-15', '2021-09-08', '2021-12-05', '2021-10-09', '2021-09-30', '2021-12-22', '2021-11-29', '2021-12-24', '2021-11-26', '2021-10-27', '2021-12-18', '2021-11-09', '2021-11-23', '2021-09-27', '2021-10-02', '2021-12-27', '2021-09-20', '2021-12-13', '2021-11-01', '2021-11-09', '2021-12-06', '2021-12-08', '2021-10-09', '2021-10-31', '2021-09-30', '2021-11-09', '2021-12-13', '2021-10-26', '2021-12-09']\n",
    "\n",
    "Суммы покупок по датам\n",
    "\n",
    "[1270, 8413, 9028, 3703, 5739, 4095, 295, 4944, 5723, 3701, 4471, 651, 7037, 4274, 6275, 4988, 6930, 2971, 6592, 2004, 2822, 519, 3406, 2732, 5015, 2008, 316, 6333, 5700, 2887]"
   ]
  },
  {
   "cell_type": "code",
   "execution_count": 36,
   "id": "b276ed21",
   "metadata": {},
   "outputs": [],
   "source": [
    "list_date = ['2021-09-14', '2021-12-15', '2021-09-08', '2021-12-05', '2021-10-09', '2021-09-30', '2021-12-22', '2021-11-29', '2021-12-24', '2021-11-26', '2021-10-27', '2021-12-18', '2021-11-09', '2021-11-23', '2021-09-27', '2021-10-02', '2021-12-27', '2021-09-20', '2021-12-13', '2021-11-01', '2021-11-09', '2021-12-06', '2021-12-08', '2021-10-09', '2021-10-31', '2021-09-30', '2021-11-09', '2021-12-13', '2021-10-26', '2021-12-09']\n",
    "list_revenue = [1270, 8413, 9028, 3703, 5739, 4095, 295, 4944, 5723, 3701, 4471, 651, 7037, 4274, 6275, 4988, 6930, 2971, 6592, 2004, 2822, 519, 3406, 2732, 5015, 2008, 316, 6333, 5700, 2887]\n"
   ]
  },
  {
   "cell_type": "code",
   "execution_count": 37,
   "id": "ddc2cf53",
   "metadata": {},
   "outputs": [
    {
     "data": {
      "text/plain": [
       "{'2021-09-14': [1270],\n",
       " '2021-12-15': [8413],\n",
       " '2021-09-08': [9028],\n",
       " '2021-12-05': [3703],\n",
       " '2021-10-09': [2732],\n",
       " '2021-09-30': [2008],\n",
       " '2021-12-22': [295],\n",
       " '2021-11-29': [4944],\n",
       " '2021-12-24': [5723],\n",
       " '2021-11-26': [3701],\n",
       " '2021-10-27': [4471],\n",
       " '2021-12-18': [651],\n",
       " '2021-11-09': [316],\n",
       " '2021-11-23': [4274],\n",
       " '2021-09-27': [6275],\n",
       " '2021-10-02': [4988],\n",
       " '2021-12-27': [6930],\n",
       " '2021-09-20': [2971],\n",
       " '2021-12-13': [6333],\n",
       " '2021-11-01': [2004],\n",
       " '2021-12-06': [519],\n",
       " '2021-12-08': [3406],\n",
       " '2021-10-31': [5015],\n",
       " '2021-10-26': [5700],\n",
       " '2021-12-09': [2887]}"
      ]
     },
     "execution_count": 37,
     "metadata": {},
     "output_type": "execute_result"
    }
   ],
   "source": [
    "def my_fin(lst1: list, lst2: list) -> dict:\n",
    "  mydict = dict()\n",
    "  for i in range(len(lst1)):\n",
    "    mydict[lst1[i]] = [lst2[i]]\n",
    "  return mydict\n",
    "\n",
    "my_fin(list_date, list_revenue)"
   ]
  },
  {
   "cell_type": "markdown",
   "id": "ef09924c",
   "metadata": {},
   "source": [
    "## 4.1 Найдите, какая выручка у компании в ноябре¶\n",
    "\n",
    "Используйте list comprehensions"
   ]
  },
  {
   "cell_type": "code",
   "execution_count": 38,
   "id": "84187ab1",
   "metadata": {},
   "outputs": [
    {
     "name": "stdout",
     "output_type": "stream",
     "text": [
      "['09', '12', '09', '12', '10', '09', '12', '11', '12', '11', '10', '12', '11', '11', '09', '10', '12', '09', '12', '11', '11', '12', '12', '10', '10', '09', '11', '12', '10', '12']\n"
     ]
    }
   ],
   "source": [
    "list_Month = [i.split('-')[1] for i in list_date]\n",
    "print(list_Month)"
   ]
  },
  {
   "cell_type": "code",
   "execution_count": 39,
   "id": "423c990d",
   "metadata": {
    "scrolled": false
   },
   "outputs": [],
   "source": [
    "tuple_November_Revenue = [(f'Месяц {list_Month[i]}', f'выручка {list_revenue[j]}')\n",
    "                          for i in range(len(list_Month))\n",
    "                          for j in range(len(list_revenue))\n",
    "                          if i == j and list_Month[i] == '11']"
   ]
  },
  {
   "cell_type": "code",
   "execution_count": 40,
   "id": "633182f2",
   "metadata": {},
   "outputs": [
    {
     "data": {
      "text/plain": [
       "[('Месяц 11', 'выручка 4944'),\n",
       " ('Месяц 11', 'выручка 3701'),\n",
       " ('Месяц 11', 'выручка 7037'),\n",
       " ('Месяц 11', 'выручка 4274'),\n",
       " ('Месяц 11', 'выручка 2004'),\n",
       " ('Месяц 11', 'выручка 2822'),\n",
       " ('Месяц 11', 'выручка 316')]"
      ]
     },
     "execution_count": 40,
     "metadata": {},
     "output_type": "execute_result"
    }
   ],
   "source": [
    "tuple_November_Revenue"
   ]
  },
  {
   "cell_type": "code",
   "execution_count": 43,
   "id": "dbd4e98a",
   "metadata": {},
   "outputs": [
    {
     "name": "stdout",
     "output_type": "stream",
     "text": [
      "Месяц 11 выручка составила: 25098\n"
     ]
    }
   ],
   "source": [
    "print(tuple_November_Revenue[0][0], f'выручка составила: {sum([revenue for date, revenue in zip(list_date, list_revenue) if date[5:7] == \"11\"])}')\n"
   ]
  },
  {
   "cell_type": "markdown",
   "id": "8b0182ee",
   "metadata": {},
   "source": [
    "## 4.2 Найдите выручку компании в зависимости от месяца\n",
    "\n",
    "Для этого напишите функцию, которая на вход принимает список с датами и список с выручкой, а на выходе словарь, где ключи - это месяцы, а значения - это выручка.\n",
    "\n",
    "Используйте аннотирование типов."
   ]
  },
  {
   "cell_type": "code",
   "execution_count": 49,
   "id": "beb80281",
   "metadata": {},
   "outputs": [],
   "source": [
    "def revenue_by_month(list_date: list, list_revenue: list) -> dict:\n",
    "   \n",
    "    dict_Month = {}\n",
    "    for i in range(len(list_date)):\n",
    "        if list_date[i].split('-')[1] in dict_Month.keys():\n",
    "            dict_Month[list_date[i].split('-')[1]] += list_revenue[i]\n",
    "        else:\n",
    "            dict_Month[list_date[i].split('-')[1]] = list_revenue[i]\n",
    "    return dict_Month"
   ]
  },
  {
   "cell_type": "code",
   "execution_count": 48,
   "id": "448c7bee",
   "metadata": {},
   "outputs": [
    {
     "data": {
      "text/plain": [
       "{'09': 25647, '12': 45452, '10': 28645, '11': 25098}"
      ]
     },
     "execution_count": 48,
     "metadata": {},
     "output_type": "execute_result"
    }
   ],
   "source": [
    "revenue_by_month(list_date, list_revenue)"
   ]
  }
 ],
 "metadata": {
  "kernelspec": {
   "display_name": "Python 3 (ipykernel)",
   "language": "python",
   "name": "python3"
  },
  "language_info": {
   "codemirror_mode": {
    "name": "ipython",
    "version": 3
   },
   "file_extension": ".py",
   "mimetype": "text/x-python",
   "name": "python",
   "nbconvert_exporter": "python",
   "pygments_lexer": "ipython3",
   "version": "3.11.3"
  }
 },
 "nbformat": 4,
 "nbformat_minor": 5
}
